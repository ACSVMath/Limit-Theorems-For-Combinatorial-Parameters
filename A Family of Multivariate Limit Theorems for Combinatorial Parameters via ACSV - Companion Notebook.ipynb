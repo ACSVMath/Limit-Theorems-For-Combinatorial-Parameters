{
 "cells": [
  {
   "cell_type": "markdown",
   "id": "a8336054",
   "metadata": {},
   "source": [
    "# A Family of Multivariate Limit Theorems for Combinatorial Parameters via ACSV\n",
    "This is a companion notebook for [*A Family of Multivariate Limit Theorems for Combinatorial Parameters via ACSV*](https://arxiv.org/abs/2211.15492) by Stephen Melczer and Tiadora Ruza. \n",
    "\n",
    "First, we provide code that will apply the Main Theorem automatically. Second, code corresponding to each section of the paper is given. Finally, implementations that are not directly mentioned in the paper, but are related to the exploration for the paper, are given."
   ]
  },
  {
   "cell_type": "markdown",
   "id": "eb82b879",
   "metadata": {},
   "source": [
    "## 1 - Main Theorem Implementations\n",
    "This section implements our Main Theorem. Because the Main Theorem may be invoked either for explicit examples, or for parameterized families (with the dimension $d$ as a parameter) we give two implementations."
   ]
  },
  {
   "cell_type": "markdown",
   "id": "23edd5e7",
   "metadata": {},
   "source": [
    "### Main Theorem for Explicit Examples"
   ]
  },
  {
   "cell_type": "code",
   "execution_count": 1,
   "id": "ada595e7",
   "metadata": {},
   "outputs": [],
   "source": [
    "# Helper functions for the Main Theorem function\n",
    "\n",
    "# Returns the phase Hessian matrix corresponding to the given input values\n",
    "# P: 1 - H(1, 1, ..., 1, t)\n",
    "# qₖ: list of qₖ(t)\n",
    "# t: the variable representing t\n",
    "# ρ: the smallest positive root of H(1, 1, ..., 1, t), \n",
    "#      where H(z_1, z_2, ..., z_d, t) is the denominator of the generating function being considered\n",
    "# d: the number of z variables\n",
    "def getHes(P, qₖ, t, ρ, d):\n",
    "    H = matrix(SR,d)\n",
    "    Pˡ = diff(P, t)\n",
    "    Pˡˡ = diff(Pˡ, t)\n",
    "\n",
    "    for i in range(d):\n",
    "        for j in range(d):\n",
    "            if i == j: \n",
    "                H[i,j] = (t*qₖ[j]^2*Pˡˡ-(2*qₖ[j]*diff(qₖ[j], t)*t-qₖ[j]^2)*Pˡ-qₖ[j]*t*Pˡ^2)/(t^2*Pˡ^3)\n",
    "            else:\n",
    "                H[i,j] = (t*qₖ[i]*qₖ[j]*Pˡˡ-(qₖ[j]*diff(qₖ[i], t)*t+qₖ[i]*diff(qₖ[j], t)*t-qₖ[i]*qₖ[j])*Pˡ)/(t^2*Pˡ^3)\n",
    "    \n",
    "    return H.subs(t == ρ)\n",
    "\n",
    "# Returns the determinant of the phase Hessian matrix corresponding to the given input values\n",
    "# P: 1 - H(1, 1, ..., 1, t)\n",
    "# qₖ: list of qₖ(t)\n",
    "# qₜ: q(t)\n",
    "# t: the variable representing t\n",
    "# ρ: the smallest positive root of H(1, 1, ..., 1, t), \n",
    "#      where H(z_1, z_2, ..., z_d, t) is the denominator of the generating function being considered\n",
    "# d: the number of z variables\n",
    "def getHesDet(P, qₖ, qₜ, t, ρ, d):\n",
    "    Pˡ = diff(P, t)\n",
    "    Pˡˡ = diff(Pˡ, t)\n",
    "    \n",
    "    deter = (-1)^d*mul(qₖ)*((qₜ-1)*(t*Pˡˡ+Pˡ+t*sum(diff(qₖ[k], t)^2/qₖ[k] for k in range(d)))+diff(qₜ, t)^2*t)\n",
    "    deter /= Pˡ^(d+2)*t^(d+1)\n",
    "    \n",
    "    return deter.subs(t == ρ)\n",
    "\n",
    "# Returns Aₙ, m, νₙ as defined in the paper, as well as the phase Hessian\n",
    "# While this does verify the majority of requirements for a LCLT, we make the following caveats:\n",
    "#       1. We do not check that the coefficients of q(t) are non-negative.\n",
    "#       2. We assume that the qᵢ(t) are indeed polynomials and that q(t) is a complex-valued \n",
    "#          analytic function for |t|<= ρ.\n",
    "#       3. We attempt to certify aperiodicity of q(t), but do not prove if something is periodic. \n",
    "#          If the certification for aperiodicity fails, a warning is printed.\n",
    "#       4. We assume that the variable orderings correspond to qₖ and that the last variable is the one \n",
    "#          representing t.\n",
    "# G: the numerator of the multivariate generating function\n",
    "# qₖ: list of the qₖ(t)\n",
    "# qₜ: q(t)\n",
    "# vars: the variables used in the multivariate generating function (assume that the ordering corresponds to \n",
    "#       qₖ and that the last one is the variable representing t)\n",
    "def getLCLT(G, qₖ, qₜ, vars):\n",
    "    var('n')\n",
    "    \n",
    "    # condition checking\n",
    "    for q in qₖ:\n",
    "        if q == 0:\n",
    "            print(\"Error: Not all polynomials in qₖ are non-zero.\")\n",
    "            return\n",
    "        if q.subs(vars[-1] == 0) != 0:\n",
    "            print(\"Error: Not all polynomials in qₖ vanish at the origin.\")\n",
    "            return\n",
    "        if not(all(coeff[0] >= 0 for coeff in q.coefficients(vars[-1]))):\n",
    "            print(\"Error: Not all polynomials in qₖ have non-negative coefficients.\")\n",
    "            return\n",
    "    if qₜ.subs(vars[-1] == 0) != 0:\n",
    "        print(\"Error: q(t) does not vanish at the origin.\")\n",
    "        return\n",
    "    if gcd([coeff[1] for coeff in (qₜ.series(vars[-1], 101)).coefficients(vars[-1])]) != 1:\n",
    "        print(\"Warning: Could not verify aperiodicity.\")\n",
    "    \n",
    "    # find ρ\n",
    "    P =  1 - qₜ - sum(qₖ)\n",
    "    sols = solve(P == 0, vars[-1])\n",
    "    ρlist = [sol.rhs() for sol in sols if sol.rhs() > 0]\n",
    "    ρ = min(ρlist)\n",
    "    \n",
    "    # condition checking\n",
    "    Gsub = G.subs([var == 0 for var in vars[:-1]] + [vars[-1] == ρ])\n",
    "    if Gsub == 0:\n",
    "        print(\"Error: G(1, 1, ..., 1, ρ) = 0.\")\n",
    "        return\n",
    "    \n",
    "    # find required values\n",
    "    d = len(vars)-1\n",
    "    \n",
    "    hessian = getHes(P, qₖ, vars[-1], ρ, d)\n",
    "    detHess = getHesDet(P, qₖ, qₜ, vars[-1], ρ, d)\n",
    "    \n",
    "    Pˡ = diff(P, vars[-1])\n",
    "    \n",
    "    s = matrix(list(var('s', n=d)))\n",
    "\n",
    "    # using expressions from paper to find Aₙ, m ans νₙ\n",
    "    Aₙ = ρ^(-n)*n^(-d/2)*Gsub/(-ρ*Pˡ.subs(vars[-1] == ρ)*(2*pi)^(d/2)*sqrt(detHess))\n",
    "    \n",
    "    m = matrix(RR,1,d)\n",
    "    for k in range(d):\n",
    "        m[0,k] = -qₖ[k].subs(vars[-1] == ρ)/(ρ*Pˡ.subs(vars[-1] == ρ))\n",
    "\n",
    "    νₙ = exp((-(s - n*m)*hessian.inverse()*(s-n*m).transpose())/(2*n))\n",
    "    \n",
    "    return Aₙ, m, νₙ[0,0], hessian"
   ]
  },
  {
   "cell_type": "markdown",
   "id": "22a01f82",
   "metadata": {},
   "source": [
    "### Main Theorem with Parameterized Dimension"
   ]
  },
  {
   "cell_type": "code",
   "execution_count": 2,
   "id": "6c25284c",
   "metadata": {},
   "outputs": [],
   "source": [
    "# Helper functions for the Main Theorem function\n",
    "\n",
    "# Returns the entry patterns of the phase Hessian matrix corresponding to the given input values\n",
    "# qₖ: the polynomial qₖ as a function of k\n",
    "# t: the variable representing t\n",
    "# ρ: either the variable representing or the value of ρ\n",
    "# Pˡ: either the variable representing or the value of the derivative P'\n",
    "# Pˡˡ: either the variable representing or the value of the second derivative P''\n",
    "def getHesEntries(qₖ, t, ρ, Pˡ, Pˡˡ):\n",
    "    var('i j')\n",
    "    \n",
    "    qᵢ = qₖ.subs(k == i)\n",
    "    qⱼ = qₖ.subs(k == j)\n",
    "\n",
    "    Hⱼⱼ = (t*qⱼ^2*Pˡˡ-(2*qⱼ*diff(qⱼ, t)*t-qⱼ^2)*Pˡ-qⱼ*t*Pˡ^2)/(t^2*Pˡ^3)\n",
    "    Hᵢⱼ = (t*qᵢ*qⱼ*Pˡˡ-(qⱼ*diff(qᵢ, t)*t+qᵢ*diff(qⱼ, t)*t-qᵢ*qⱼ)*Pˡ)/(t^2*Pˡ^3)\n",
    "    \n",
    "    return Hⱼⱼ.subs(t == ρ), Hᵢⱼ.subs(t == ρ)\n",
    "\n",
    "# Returns the determinant of the phase Hessian matrix corresponding to the given input values\n",
    "# qₖ: the polynomial qₖ as a function of k\n",
    "# qₜ: q(t)\n",
    "# t: the variable representing t\n",
    "# ρ: either the variable representing or the value of ρ\n",
    "# d: variable representing the number of z variables\n",
    "# Pˡ: either the variable representing or the value of Pˡ\n",
    "# Pˡˡ: either the variable representing or the value of Pˡˡ\n",
    "def getSymHesDet(qₖ, qₜ, t, ρ, d, Pˡ, Pˡˡ):\n",
    "    \n",
    "    deter = (-1)^d*product(qₖ, k, 1, d)*((qₜ-1)*(t*Pˡˡ+Pˡ+t*sum(diff(qₖ, t)^2/qₖ, k, 1, d))+diff(qₜ, t)^2*t)\n",
    "    deter /= Pˡ^(d+2)*t^(d+1)\n",
    "    \n",
    "    return deter.subs(t == ρ)\n",
    "\n",
    "# Returns Aₙ as defined in the paper and the entries for m and the phase hessian (all in terms of the given \n",
    "#         Pˡ, Pˡˡ, ρ and d.\n",
    "# While this does verify the majority of requirements for a LCLT, we make the following caveats:\n",
    "#       1. We do not check that the coefficients of q(t) are non-negative.\n",
    "#       2. We assume that the qᵢ(t) are indeed polynomials and that q(t) is a complex-valued \n",
    "#          analytic function for |t|<= ρ.\n",
    "#       3. We attempt to certify aperiodicity of q(t), but do not prove if something is periodic. \n",
    "#          If the certification for aperiodicity fails, a warning is printed.\n",
    "#       4. We assume that the variable orderings correspond to qₖ and that the last variable is the one \n",
    "#          representing t.\n",
    "# Gsub: the numerator of the multivariate generating function where all variables aside from t are set to 1\n",
    "# qₖ: the polynomial qₖ as a function of k\n",
    "# qₜ: q(t)\n",
    "# t: the variable representing t\n",
    "# d: the variable representing d\n",
    "# k: the variable representing k\n",
    "# ρ: either the variable representing or the value of ρ\n",
    "# d: variable representing the number of z variables\n",
    "# Pˡ: either the variable representing or the value of Pˡ\n",
    "# Pˡˡ: either the variable representing or the value of Pˡˡ\n",
    "def getSymLCLT(Gsub, qₖ, qₜ, t, d, k, ρ, Pˡ, Pˡˡ):\n",
    "    var('s m n')\n",
    "    \n",
    "    # condition checking\n",
    "    if qₖ == 0:\n",
    "        print(\"Error: qₖ pattern is not non-zero.\")\n",
    "        return\n",
    "    if qₖ.subs(t == 0) != 0:\n",
    "        print(\"Error: qₖ pattern does not vanish at the origin.\")\n",
    "        return\n",
    "    if qₜ.subs(t == 0) != 0:\n",
    "        print(\"Error: q(t) does not vanish at the origin.\")\n",
    "        return\n",
    "    if Gsub.subs(t == ρ) == 0:\n",
    "        print(\"Error: G(1, 1, ..., 1, ρ) = 0.\")\n",
    "        return\n",
    "    \n",
    "    # phase hessian and determinant\n",
    "    Hⱼⱼ, Hᵢⱼ = getHesEntries(qₖ, t, ρ, Pˡ, Pˡˡ)\n",
    "    detHess = getSymHesDet(qₖ, qₜ, t, ρ, d, Pˡ, Pˡˡ)\n",
    "    \n",
    "    # Aₙ and m pattern\n",
    "    Aₙ = ρ^(-n)*n^(-d/2)*Gsub.subs(t == ρ)/(-ρ*Pˡ.subs(t == ρ)*(2*pi)^(d/2)*sqrt(detHess))\n",
    "    \n",
    "    mpat = -qₖ.subs(t == ρ)/(ρ*Pˡ.subs(t == ρ))\n",
    "    \n",
    "    return Aₙ.canonicalize_radical(), mpat.canonicalize_radical(), Hᵢⱼ.canonicalize_radical(), Hⱼⱼ.canonicalize_radical()"
   ]
  },
  {
   "cell_type": "markdown",
   "id": "395e3694",
   "metadata": {},
   "source": [
    "## 2 - Examples from the Paper\n",
    "This section uses our implementations on the examples from the paper."
   ]
  },
  {
   "cell_type": "markdown",
   "id": "b6ee2b52",
   "metadata": {},
   "source": [
    "### 1.1 Motivating Example: Permutations with Restricted Cycles\n",
    "An example of using the Main Theorem implementation for finding an LCLT for permutations with restricted cycles."
   ]
  },
  {
   "cell_type": "code",
   "execution_count": 3,
   "id": "7328f712",
   "metadata": {},
   "outputs": [
    {
     "data": {
      "text/html": [
       "<html>\\(\\displaystyle \\verb|Aₙ|\\verb| |\\verb|=| -\\frac{\\sqrt{\\mathit{Pˡ}^{d}} {\\left(ρ - 1\\right)} \\sqrt{ρ^{d}}}{\\sqrt{\\mathit{Pˡˡ} ρ^{4} + {\\left(\\mathit{Pˡ} - 3 \\, \\mathit{Pˡˡ}\\right)} ρ^{3} - {\\left(3 \\, \\mathit{Pˡ} - 3 \\, \\mathit{Pˡˡ} - 1\\right)} ρ^{2} + {\\left({\\left(d^{2} + 2 \\, d + 1\\right)} ρ^{3} - {\\left(2 \\, d^{2} + 6 \\, d + 3\\right)} ρ^{2} + {\\left(d^{2} + 4 \\, d + 4\\right)} ρ\\right)} ρ^{d} + {\\left(3 \\, \\mathit{Pˡ} - \\mathit{Pˡˡ} - 3\\right)} ρ - \\mathit{Pˡ}} 2^{\\frac{1}{2} \\, d} \\sqrt{\\left(-1\\right)^{d}} \\pi^{\\frac{1}{2} \\, d} n^{\\frac{1}{2} \\, d} ρ^{n + \\frac{1}{2}} \\sqrt{{\\prod_{k=1}^{d} ρ^{k + 1}}}}\\)</html>"
      ],
      "text/latex": [
       "$\\displaystyle \\verb|Aₙ|\\verb| |\\verb|=| -\\frac{\\sqrt{\\mathit{Pˡ}^{d}} {\\left(ρ - 1\\right)} \\sqrt{ρ^{d}}}{\\sqrt{\\mathit{Pˡˡ} ρ^{4} + {\\left(\\mathit{Pˡ} - 3 \\, \\mathit{Pˡˡ}\\right)} ρ^{3} - {\\left(3 \\, \\mathit{Pˡ} - 3 \\, \\mathit{Pˡˡ} - 1\\right)} ρ^{2} + {\\left({\\left(d^{2} + 2 \\, d + 1\\right)} ρ^{3} - {\\left(2 \\, d^{2} + 6 \\, d + 3\\right)} ρ^{2} + {\\left(d^{2} + 4 \\, d + 4\\right)} ρ\\right)} ρ^{d} + {\\left(3 \\, \\mathit{Pˡ} - \\mathit{Pˡˡ} - 3\\right)} ρ - \\mathit{Pˡ}} 2^{\\frac{1}{2} \\, d} \\sqrt{\\left(-1\\right)^{d}} \\pi^{\\frac{1}{2} \\, d} n^{\\frac{1}{2} \\, d} ρ^{n + \\frac{1}{2}} \\sqrt{{\\prod_{k=1}^{d} ρ^{k + 1}}}}$"
      ],
      "text/plain": [
       "'Aₙ = ' -sqrt(Pˡ^d)*(ρ - 1)*sqrt(ρ^d)/(sqrt(Pˡˡ*ρ^4 + (Pˡ - 3*Pˡˡ)*ρ^3 - (3*Pˡ - 3*Pˡˡ - 1)*ρ^2 + ((d^2 + 2*d + 1)*ρ^3 - (2*d^2 + 6*d + 3)*ρ^2 + (d^2 + 4*d + 4)*ρ)*ρ^d + (3*Pˡ - Pˡˡ - 3)*ρ - Pˡ)*2^(1/2*d)*sqrt((-1)^d)*pi^(1/2*d)*n^(1/2*d)*ρ^(n + 1/2)*sqrt(product(ρ^(k + 1), k, 1, d)))"
      ]
     },
     "metadata": {},
     "output_type": "display_data"
    },
    {
     "data": {
      "text/html": [
       "<html>\\(\\displaystyle \\verb|mpattern|\\verb| |\\verb|=| -\\frac{ρ^{k}}{\\mathit{Pˡ}}\\)</html>"
      ],
      "text/latex": [
       "$\\displaystyle \\verb|mpattern|\\verb| |\\verb|=| -\\frac{ρ^{k}}{\\mathit{Pˡ}}$"
      ],
      "text/plain": [
       "'mpattern = ' -ρ^k/Pˡ"
      ]
     },
     "metadata": {},
     "output_type": "display_data"
    },
    {
     "data": {
      "text/html": [
       "<html>\\(\\displaystyle \\verb|Hᵢⱼ|\\verb| |\\verb|=| -\\frac{{\\left(\\mathit{Pˡ} i + \\mathit{Pˡ} j - \\mathit{Pˡˡ} ρ + \\mathit{Pˡ}\\right)} ρ^{i + j}}{\\mathit{Pˡ}^{3}}\\)</html>"
      ],
      "text/latex": [
       "$\\displaystyle \\verb|Hᵢⱼ|\\verb| |\\verb|=| -\\frac{{\\left(\\mathit{Pˡ} i + \\mathit{Pˡ} j - \\mathit{Pˡˡ} ρ + \\mathit{Pˡ}\\right)} ρ^{i + j}}{\\mathit{Pˡ}^{3}}$"
      ],
      "text/plain": [
       "'Hᵢⱼ =' -(Pˡ*i + Pˡ*j - Pˡˡ*ρ + Pˡ)*ρ^(i + j)/Pˡ^3"
      ]
     },
     "metadata": {},
     "output_type": "display_data"
    },
    {
     "data": {
      "text/html": [
       "<html>\\(\\displaystyle \\verb|Hⱼⱼ|\\verb| |\\verb|=| -\\frac{\\mathit{Pˡ}^{2} ρ^{j} + {\\left(2 \\, \\mathit{Pˡ} j - \\mathit{Pˡˡ} ρ + \\mathit{Pˡ}\\right)} ρ^{2 \\, j}}{\\mathit{Pˡ}^{3}}\\)</html>"
      ],
      "text/latex": [
       "$\\displaystyle \\verb|Hⱼⱼ|\\verb| |\\verb|=| -\\frac{\\mathit{Pˡ}^{2} ρ^{j} + {\\left(2 \\, \\mathit{Pˡ} j - \\mathit{Pˡˡ} ρ + \\mathit{Pˡ}\\right)} ρ^{2 \\, j}}{\\mathit{Pˡ}^{3}}$"
      ],
      "text/plain": [
       "'Hⱼⱼ = ' -(Pˡ^2*ρ^j + (2*Pˡ*j - Pˡˡ*ρ + Pˡ)*ρ^(2*j))/Pˡ^3"
      ]
     },
     "metadata": {},
     "output_type": "display_data"
    }
   ],
   "source": [
    "# Set up variables\n",
    "var('t k d ρ')\n",
    "Pˡ, Pˡˡ = SR.symbol(\"Pˡ\"), SR.symbol(\"Pˡˡ\")\n",
    "\n",
    "# Get the limit theorem for parameterized dimension d\n",
    "Aₙ, mpat, Hᵢⱼ, Hⱼⱼ = getSymLCLT(1, t^(k+1), t, t, d, k, ρ, Pˡ, Pˡˡ)\n",
    "show('Aₙ = ', Aₙ)\n",
    "show('mpattern = ', mpat)\n",
    "show('Hᵢⱼ =', Hᵢⱼ)\n",
    "show('Hⱼⱼ = ', Hⱼⱼ)"
   ]
  },
  {
   "cell_type": "markdown",
   "id": "2fa4b3d1",
   "metadata": {},
   "source": [
    "#### $[t^{150}]P(z_1, z_2, t)$\n",
    "Plotting the coefficients of $[t^{150}]P(z_1, z_2, t)$ divided by the maximum coefficient."
   ]
  },
  {
   "cell_type": "code",
   "execution_count": null,
   "id": "7c0e769a",
   "metadata": {},
   "outputs": [],
   "source": [
    "import matplotlib.pyplot as plt\n",
    "var('z1,z2,t')\n",
    "\n",
    "# Define denominator H(x,t) and the polynomial h = H(1,...,1,t)\n",
    "H = 1 - z1*t - z2*t^2\n",
    "F = 1/H\n",
    "\n",
    "# Set index to plot\n",
    "N = 150\n",
    "\n",
    "# Get series expansion\n",
    "ser = ZZ[z1,z2](F.taylor((z1,0),(z2,0),(t,0),3*N+1).coefficient(t,N))\n",
    "\n",
    "# find maximum value\n",
    "maxval = max(ser.coefficients())\n",
    "\n",
    "# plot\n",
    "fig = plt.figure()\n",
    "fig.set_figwidth(10)\n",
    "fig.set_figheight(10)\n",
    "ax = fig.add_subplot(projection='3d')\n",
    "\n",
    "ax.grid(False)\n",
    "\n",
    "ax.set_xticks([0, 50, 100])\n",
    "ax.set_yticks([0, 50, 100])\n",
    "ax.set_zticks([0, 0.5, 1])\n",
    "\n",
    "ax.xaxis.pane.fill = False\n",
    "ax.yaxis.pane.fill = False\n",
    "ax.zaxis.pane.fill = False\n",
    "\n",
    "ax.xaxis.pane.set_edgecolor('w')\n",
    "ax.yaxis.pane.set_edgecolor('w')\n",
    "ax.zaxis.pane.set_edgecolor('w')\n",
    "\n",
    "\n",
    "for i in range(0,101):\n",
    "    for j in range(0,101):\n",
    "        ax.scatter(i,j,ser[i,j]/maxval, marker='o', color='red', edgecolor='black', s=100, linewidth=0.25)\n",
    "\n",
    "plt.show()"
   ]
  },
  {
   "cell_type": "markdown",
   "id": "a84ebf15",
   "metadata": {},
   "source": [
    "#### $[t^{150}]P(1, z_2, t)$\n",
    "Plotting the coefficients of $[t^{150}]P(1, z_2, t)$ compared to their limiting normal distribution."
   ]
  },
  {
   "cell_type": "code",
   "execution_count": null,
   "id": "79a8aea5",
   "metadata": {},
   "outputs": [],
   "source": [
    "# Define denominator H(x,t) and the polynomial h = H(1,...,1,t)\n",
    "var('n,z2,t')\n",
    "H = 1 - t - z2*t^2\n",
    "F = 1/H\n",
    "\n",
    "# Set index to plot\n",
    "N = 150\n",
    "\n",
    "# get limiting distribution\n",
    "Aₙ, m, νₙ, hes = getLCLT(1, [t^2], t, [z2, t])\n",
    "norm = exp(-N*((s0/N)^2/hes[0,0]/2))\n",
    "\n",
    "# Get index of maximum coefficient\n",
    "m0 = round(m[0, 0]*N)\n",
    "\n",
    "# Get series expansion\n",
    "ser = ZZ[z2](F.taylor((z2,0),(t,0),2*N+1).coefficient(t,N))\n",
    "\n",
    "# Plot series coefficients of [t^n]F(x,t) compared to limit distribution, shifted to have the maximum at the origin\n",
    "pt = point([[k-m0/N,ser[m0+k]/Aₙ.subs(n==N)] for k in range(-20,21)], color='red', size=20)\n",
    "pt += plot(norm,s0,-20,20,color='darkblue')\n",
    "pt"
   ]
  },
  {
   "cell_type": "markdown",
   "id": "3b1371a0",
   "metadata": {},
   "source": [
    "### 1.3 Additional Examples\n",
    "Examples of using the Main Theorem implementations above for strings with tracked letters, compositions with tracked summands and $n$-colour compositions with tracked summands."
   ]
  },
  {
   "cell_type": "markdown",
   "id": "82f597cf",
   "metadata": {},
   "source": [
    "#### Strings with Tracked Letters\n",
    "An example of using the Main Theorem implementation for finding an LCLT for strings with tracked letters."
   ]
  },
  {
   "cell_type": "markdown",
   "id": "77aeadd7",
   "metadata": {},
   "source": [
    "While most requirements of getSymLCLT can be found directly from the generating function, $\\rho$, $P'(\\rho)$ and $P''(\\rho)$ require minor calculations. \n",
    "\n",
    "By definition, $P(t) = 1-\\ell t$. \n",
    "\n",
    "Thus, if $t = \\frac{1}{\\ell}$, $P(t) = 0$ and hence, $\\rho = \\frac{1}{\\ell}$. \n",
    "\n",
    "$P'(t) = -\\ell$ and $P''(t) = 0$, so $P'(\\rho) = -\\ell$ and $P''(\\rho) = 0$. \n",
    "\n",
    "It is these values that we use in our call to getSymLCLT."
   ]
  },
  {
   "cell_type": "code",
   "execution_count": null,
   "id": "189beeeb",
   "metadata": {},
   "outputs": [],
   "source": [
    "var('t k d l')\n",
    "Aₙ, mpat, Hᵢⱼ, Hⱼⱼ = getSymLCLT(1, t, (l-d)*t, t, d, k, 1/l, -l, 0)\n",
    "show('Aₙ = ', Aₙ)\n",
    "show('mpattern = ', mpat)\n",
    "show('Hᵢⱼ = ', Hᵢⱼ)\n",
    "show('Hⱼⱼ = ', Hⱼⱼ)"
   ]
  },
  {
   "cell_type": "markdown",
   "id": "1e0c50ca",
   "metadata": {},
   "source": [
    "##### Classical Central Limit Theorem\n",
    "Recovering the Classical Central Limit Theorem, a subcase of strings with tracked letters, using the Main Theorem implementations."
   ]
  },
  {
   "cell_type": "code",
   "execution_count": null,
   "id": "1fffb9e3",
   "metadata": {},
   "outputs": [],
   "source": [
    "var('z t')\n",
    "Aₙ, m, νₙ, hes = getLCLT(1, [t], t, [z, t])\n",
    "show('Aₙ = ', Aₙ)\n",
    "show('m = ', m)\n",
    "show('νₙ = ', νₙ)"
   ]
  },
  {
   "cell_type": "markdown",
   "id": "a17cac77",
   "metadata": {},
   "source": [
    "#### Compositions with Tracked Summands\n",
    "An example of using the Main Theorem implementation for finding an LCLT for compositions with tracked summands."
   ]
  },
  {
   "cell_type": "markdown",
   "id": "cfddc29a",
   "metadata": {},
   "source": [
    "As with our strings with tracked letters example, while most requirements of getSymLCLT can be found directly from the generating function, $\\rho$, $P'(\\rho)$ and $P''(\\rho)$ require minor calculations. \n",
    "\n",
    "By definition, $P(t) = 1-\\frac{t}{1-t}$. \n",
    "\n",
    "Thus, if $t = \\frac{1}{2}$, $P(t) = 0$ and hence, $\\rho = \\frac{1}{2}$. \n",
    "\n",
    "$P'(t) = -\\frac{1}{(1-t)^2}$ and $P''(t) = -\\frac{2}{(1-t)^3}$, so $P'(\\rho) = -4$ and $P''(\\rho) = -16$. \n",
    "\n",
    "It is these values that we use in our call to getSymLCLT."
   ]
  },
  {
   "cell_type": "code",
   "execution_count": null,
   "id": "972e422f",
   "metadata": {},
   "outputs": [],
   "source": [
    "var('t k d')\n",
    "Aₙ, mpat, Hᵢⱼ, Hⱼⱼ = getSymLCLT(1, t^k, t^(d+1)/(1-t), t, d, k, 1/2, -4, -16)\n",
    "show('Aₙ = ', Aₙ)\n",
    "show(\"Since \", product(1/2^k, k, 1, d) == 1/2^(1/2*d^2 + 1/2*d), \",\")\n",
    "show('Aₙ = ', (-2^(d + n + 2)/(sqrt((d^2 + 4*d + 6)*2^d - 2)*pi^(1/2*d)*(-4)*n^(1/2*d)*sqrt(1/2^(1/2*d^2 + 1/2*d)))).canonicalize_radical())\n",
    "show('mpattern = ', mpat)\n",
    "show('Hᵢⱼ = ', Hᵢⱼ)\n",
    "show('Hⱼⱼ = ', Hⱼⱼ)"
   ]
  },
  {
   "cell_type": "markdown",
   "id": "15f5f57d",
   "metadata": {},
   "source": [
    "#### $[t^{100}]\\frac{1}{1-z_1t-\\frac{t^2}{1-t}}$\n",
    "Plotting the coefficients of $[t^{100}]\\frac{1}{1-z_1t-\\frac{t^2}{1-t}}$ divided by the projected maximum coefficient compared to their limiting normal distribution."
   ]
  },
  {
   "cell_type": "code",
   "execution_count": null,
   "id": "82cc533b",
   "metadata": {},
   "outputs": [],
   "source": [
    "# Define denominator H(x,t) and the polynomial h = H(1,...,1,t)\n",
    "var('n,z1,t')\n",
    "H = 1 - z1*t - t^2/(1-t)\n",
    "F = 1/H\n",
    "\n",
    "# Set index to plot\n",
    "N = 100\n",
    "\n",
    "# get limiting distribution\n",
    "Aₙ, m, νₙ, hes = getLCLT(1, [t], t^2/(1-t), [z1, t])\n",
    "norm = exp(-N*((s0/N)^2/hes[0,0]/2))\n",
    "\n",
    "# Get index of maximum coefficient\n",
    "m0 = round(m[0,0]*N)\n",
    "\n",
    "# Get series expansion\n",
    "ser = ZZ[z1](F.taylor((z1,0),(t,0),2*N+1).coefficient(t,N))\n",
    "\n",
    "# Plot series coefficients of [t^n]F(x,t) compared to limit distribution\n",
    "pt = point([[k-m0/N,ser[m0+k]/Aₙ.subs(n==N)] for k in range(-20,21)], color='red', size=20)\n",
    "pt += plot(norm,s0,-20,20,color='darkblue')\n",
    "pt"
   ]
  },
  {
   "cell_type": "markdown",
   "id": "1330502c",
   "metadata": {},
   "source": [
    "#### $[t^{100}]\\frac{1}{1-z_1t-z_2t^2-\\frac{t^3}{1-t}}$\n",
    "Plotting the coefficients of $[t^{100}]\\frac{1}{1-z_1t-z_2t^2-\\frac{t^3}{1-t}}$ divided by the projected maximum coefficient."
   ]
  },
  {
   "cell_type": "code",
   "execution_count": null,
   "id": "1a8365d0",
   "metadata": {},
   "outputs": [],
   "source": [
    "# Define denominator H(x,t) and the polynomial h = H(1,...,1,t)\n",
    "var('n,z1,z2,t')\n",
    "H = 1 - z1*t - z2*t^2 - t^3/(1-t)\n",
    "F = 1/H\n",
    "\n",
    "# Set index to plot\n",
    "N = 100\n",
    "\n",
    "# get limiting distribution\n",
    "Aₙ, m, νₙ, hes = getLCLT(1, [t, t^2], t^3/(1-t), [z1, z2, t])\n",
    "\n",
    "# Get index of maximum coefficient\n",
    "m0 = round(m[0,0]*N)\n",
    "\n",
    "# Get series expansion\n",
    "ser = ZZ[z1,z2](F.taylor((z1,0),(z2,0),(t,0),3*N+1).coefficient(t,N))\n",
    "\n",
    "# plot\n",
    "import matplotlib.pyplot as plt\n",
    " \n",
    "fig = plt.figure()\n",
    "fig.set_figwidth(10)\n",
    "fig.set_figheight(10)\n",
    "ax = fig.add_subplot(projection='3d')\n",
    "\n",
    "ax.grid(False)\n",
    "\n",
    "ax.set_xticks([0, 25,50])\n",
    "ax.set_yticks([0, 25,50])\n",
    "ax.set_zticks([0, 0.5, 1])\n",
    "\n",
    "ax.xaxis.pane.fill = False\n",
    "ax.yaxis.pane.fill = False\n",
    "ax.zaxis.pane.fill = False\n",
    "\n",
    "ax.xaxis.pane.set_edgecolor('w')\n",
    "ax.yaxis.pane.set_edgecolor('w')\n",
    "ax.zaxis.pane.set_edgecolor('w')\n",
    "\n",
    "\n",
    "for i in range(0,51):\n",
    "    for j in range(0,51):\n",
    "        ax.scatter(i,j,ser[i,j]/Aₙ.subs(n==N), marker='o', color='red', edgecolor='black', s=100, linewidth=0.25)\n",
    "\n",
    "plt.show()"
   ]
  },
  {
   "cell_type": "markdown",
   "id": "3e1dc453",
   "metadata": {},
   "source": [
    "#### $n$-Colour Compositions with Tracked Summands\n",
    "An example of using the Main Theorem implementation for finding an LCLT for $n$-colour compositions with tracked summands."
   ]
  },
  {
   "cell_type": "code",
   "execution_count": null,
   "id": "c1ca1042",
   "metadata": {},
   "outputs": [],
   "source": [
    "var('t k d ρ')\n",
    "Pˡ = SR.symbol('Pˡ')\n",
    "Pˡˡ = SR.symbol('Pˡˡ')\n",
    "Aₙ, mpat, Hᵢⱼ, Hⱼⱼ = getSymLCLT(1, k*t^k, d*t^(d+1)/(1-t) + t^(d+1)/(1-t)^2, t, d, k, ρ, Pˡ, Pˡˡ)\n",
    "show('Aₙ = ', Aₙ)\n",
    "show('mpattern = ', mpat)\n",
    "show('Hᵢⱼ = ', Hᵢⱼ)\n",
    "show('Hⱼⱼ = ', Hⱼⱼ)"
   ]
  },
  {
   "cell_type": "markdown",
   "id": "a4c805b2",
   "metadata": {},
   "source": [
    "#### $[t^{100}]\\frac{1}{1-z_1t-\\frac{t^2}{1-t}-\\frac{t^2}{(1-t)^2}}$\n",
    "Plotting the coefficients of $[t^{100}]\\frac{1}{1-z_1t-\\frac{t^2}{1-t}-\\frac{t^2}{(1-t)^2}}$ divided by the projected maximum coefficient compared to their limiting normal distribution."
   ]
  },
  {
   "cell_type": "code",
   "execution_count": null,
   "id": "ef3f80dd",
   "metadata": {},
   "outputs": [],
   "source": [
    "# Define denominator H(x,t) and the polynomial h = H(1,...,1,t)\n",
    "var('n,z1,t')\n",
    "H = 1 - z1*t - t^2/(1-t) - t^2/(1-t)^2\n",
    "F = 1/H\n",
    "\n",
    "# Set index to plot\n",
    "N = 100\n",
    "\n",
    "# get limiting distribution\n",
    "Aₙ, m, νₙ, hes = getLCLT(1, [t], t^2/(1-t) + t^2/(1-t)^2, [z1, t])\n",
    "norm = exp(-N*((s0/N)^2/hes[0,0]/2))\n",
    "\n",
    "# Get index of maximum coefficient\n",
    "m0 = round(m[0,0]*N)\n",
    "\n",
    "# Get series expansion\n",
    "ser = ZZ[z1](F.taylor((z1,0),(t,0),2*N+1).coefficient(t,N))\n",
    "\n",
    "# Plot series coefficients of [t^n]F(x,t) compared to limit distribution\n",
    "pt = point([[k-m0/N,ser[m0+k]/Aₙ.subs(n==N)] for k in range(-20,21)], color='red', size=20)\n",
    "pt += plot(norm,s0,-20,20,color='darkblue')\n",
    "pt"
   ]
  },
  {
   "cell_type": "markdown",
   "id": "e4d9a533",
   "metadata": {},
   "source": [
    "#### $[t^{100}]\\frac{1}{1-z_1t-2z_2t^2-\\frac{2t^3}{1-t}-\\frac{t^3}{(1-t)^2}}$\n",
    "Plotting the coefficients of $[t^{100}]\\frac{1}{1-z_1t-2z_2t^2-\\frac{2t^3}{1-t}-\\frac{t^3}{(1-t)^2}}$ divided by the projected maximum coefficient."
   ]
  },
  {
   "cell_type": "code",
   "execution_count": null,
   "id": "5df18897",
   "metadata": {},
   "outputs": [],
   "source": [
    "# Define denominator H(x,t) and the polynomial h = H(1,...,1,t)\n",
    "var('n,z1,z2,t')\n",
    "H = 1 - z1*t - 2*z2*t^2 - 2*t^3/(1-t) - t^3/(1-t)^2\n",
    "F = 1/H\n",
    "\n",
    "# Set index to plot\n",
    "N = 100\n",
    "\n",
    "# get limiting distribution\n",
    "Aₙ, m, νₙ, hes = getLCLT(1, [t, 2*t^2], 2*t^3/(1-t) + t^3/(1-t)^2, [z1, z2, t])\n",
    "\n",
    "# Get index of maximum coefficient\n",
    "m0 = round(m[0,0]*N)\n",
    "\n",
    "# Get series expansion\n",
    "ser = ZZ[z1,z2](F.taylor((z1,0),(z2,0),(t,0),3*N+1).coefficient(t,N))\n",
    "\n",
    "# plot\n",
    "import matplotlib.pyplot as plt\n",
    " \n",
    "fig = plt.figure()\n",
    "fig.set_figwidth(10)\n",
    "fig.set_figheight(10)\n",
    "ax = fig.add_subplot(projection='3d')\n",
    "\n",
    "ax.grid(False)\n",
    "\n",
    "ax.set_xticks([0, 25,50])\n",
    "ax.set_yticks([0, 25,50])\n",
    "ax.set_zticks([0, 0.5, 1])\n",
    "\n",
    "ax.xaxis.pane.fill = False\n",
    "ax.yaxis.pane.fill = False\n",
    "ax.zaxis.pane.fill = False\n",
    "\n",
    "ax.xaxis.pane.set_edgecolor('w')\n",
    "ax.yaxis.pane.set_edgecolor('w')\n",
    "ax.zaxis.pane.set_edgecolor('w')\n",
    "\n",
    "\n",
    "for i in range(0,51):\n",
    "    for j in range(0,51):\n",
    "        ax.scatter(i,j,ser[i,j]/Aₙ.subs(n==N), marker='o', color='red', edgecolor='black', s=100, linewidth=0.25)\n",
    "\n",
    "plt.show()"
   ]
  },
  {
   "cell_type": "markdown",
   "id": "6b1361f9",
   "metadata": {},
   "source": [
    "## 3 - Proof of Main Theorem\n",
    "The corresponding calculations required for the proof of Theorem 5 (Main Theorem)."
   ]
  },
  {
   "cell_type": "markdown",
   "id": "3eee9df6",
   "metadata": {},
   "source": [
    "#### Define all variables"
   ]
  },
  {
   "cell_type": "code",
   "execution_count": null,
   "id": "8b7b5ab6",
   "metadata": {},
   "outputs": [],
   "source": [
    "# define variables\n",
    "# sums\n",
    "Aⱼ = SR.symbol(\"Aⱼ\")\n",
    "Bⱼ = SR.symbol(\"Bⱼ\")\n",
    "Cⱼ = SR.symbol(\"Cⱼ\")\n",
    "Dⱼ = SR.symbol(\"Dⱼ\")\n",
    "\n",
    "# ρ, P'(ρ), P''(ρ)\n",
    "ρ = SR.symbol(\"ρ\")\n",
    "Pˡ = SR.symbol(\"Pˡ\")\n",
    "Pˡˡ = SR. symbol(\"Pˡˡ\")\n",
    "\n",
    "# qⱼ(ρ), qᵢ(ρ), qₐ(ρ)\n",
    "qⱼ = SR.symbol(\"qⱼ\")\n",
    "qᵢ = SR.symbol(\"qᵢ\")\n",
    "qₐ = SR.symbol(\"qₐ\")\n",
    "\n",
    "# q'ⱼ(ρ), q'ᵢ(ρ), q'ₐ(ρ)\n",
    "qˡⱼ = SR.symbol(\"qˡⱼ\")\n",
    "qˡᵢ = SR.symbol(\"qˡᵢ\")\n",
    "qˡₐ = SR.symbol(\"qˡₐ\")"
   ]
  },
  {
   "cell_type": "markdown",
   "id": "38ebfbb2",
   "metadata": {},
   "source": [
    "#### Case 1 of Proof\n",
    "The following provides the Sage components required for the proof of Case 1: $j > i$."
   ]
  },
  {
   "cell_type": "code",
   "execution_count": null,
   "id": "ef03d92e",
   "metadata": {},
   "outputs": [],
   "source": [
    "# when i \\neq a\n",
    "Hᵢₐ = (ρ*qᵢ*qₐ*Pˡˡ-(qₐ*qˡᵢ*ρ+qᵢ*qˡₐ*ρ-qᵢ*qₐ)*Pˡ)/(ρ^2*Pˡ^3)\n",
    "\n",
    "# when a < j\n",
    "gₐⱼ = Pˡ + Pˡˡ*ρ - ρ*(qˡₐ/qₐ + qˡⱼ/qⱼ)*(Pˡ+Bⱼ-qˡₐ)+ρ*(Dⱼ - qˡₐ^2/qₐ)+(ρ*qˡₐ*qˡⱼ)/(qₐ*qⱼ)*(Aⱼ-qₐ)\n",
    "rⱼ =  Pˡ^2*ρ - Pˡˡ*ρ*Aⱼ + 2*Pˡ*ρ*Bⱼ - Pˡ*Aⱼ - ρ*(Aⱼ*Dⱼ - Bⱼ^2)\n",
    "Uₐⱼ = (qⱼ*gₐⱼ)/rⱼ\n",
    "\n",
    "HᵢₐUₐⱼ = Hᵢₐ*Uₐⱼ\n",
    "\n",
    "αᵢⱼ = (Pˡ*qⱼ - qˡⱼ*Aⱼ + qⱼ*Bⱼ)*Pˡ*qᵢ*ρ^2\n",
    "βᵢⱼ = (Pˡ*(qˡⱼ*ρ-qⱼ) - Pˡˡ*qⱼ*ρ + qˡⱼ*ρ*Bⱼ - qⱼ*ρ*Dⱼ)*(Pˡ*(qˡᵢ*ρ-qᵢ)- Pˡˡ*qᵢ*ρ)\n",
    "γᵢⱼ = (qˡⱼ*qᵢ+qˡᵢ*qⱼ)*ρ^2*Pˡ^2 - 2*(Pˡ+Pˡˡ*ρ)*ρ*Pˡ*qᵢ*qⱼ + (Pˡˡ*qˡⱼ*qᵢ*ρ - Pˡ*qˡᵢ*qˡⱼ*ρ + Pˡ*qˡⱼ*qᵢ)*ρ*Aⱼ + (qˡⱼ*qᵢ*ρ + qˡᵢ*qⱼ*ρ - qᵢ*qⱼ)*ρ*Pˡ*Bⱼ - Pˡˡ*qᵢ*qⱼ*ρ^2*Bⱼ - Pˡ*qᵢ*qⱼ*ρ^2*Dⱼ\n",
    "\n",
    "HUcheck = (αᵢⱼ*(qˡₐ^2/qₐ) + βᵢⱼ*qₐ + γᵢⱼ*qˡₐ)/(ρ^2*Pˡ^3*rⱼ)\n",
    "\n",
    "show((HUcheck-HᵢₐUₐⱼ).canonicalize_radical())"
   ]
  },
  {
   "cell_type": "code",
   "execution_count": null,
   "id": "670329ad",
   "metadata": {},
   "outputs": [],
   "source": [
    "# sum HᵢₐUₐⱼ\n",
    "sumHᵢₐUₐⱼ = (αᵢⱼ*(Dⱼ-qˡᵢ^2/qᵢ) + βᵢⱼ*(Aⱼ-qᵢ) + γᵢⱼ*(Bⱼ-qˡᵢ))/(ρ^2*Pˡ^3*rⱼ)\n",
    "\n",
    "# HᵢᵢUᵢⱼ, i < j\n",
    "Hᵢᵢ = (ρ*qᵢ^2*Pˡˡ-(2*qᵢ*qˡᵢ*ρ-qᵢ^2)*Pˡ-qᵢ*ρ*Pˡ^2)/(ρ^2*Pˡ^3)\n",
    "\n",
    "gᵢⱼ = Pˡ + Pˡˡ*ρ - ρ*(qˡᵢ/qᵢ + qˡⱼ/qⱼ)*(Pˡ+Bⱼ-qˡᵢ)+ρ*(Dⱼ - qˡᵢ^2/qᵢ)+(ρ*qˡᵢ*qˡⱼ)/(qᵢ*qⱼ)*(Aⱼ-qᵢ)\n",
    "Uᵢⱼ = (qⱼ*gᵢⱼ)/rⱼ\n",
    "\n",
    "HᵢᵢUᵢⱼ = Hᵢᵢ*Uᵢⱼ\n",
    "\n",
    "\n",
    "# Hᵢⱼ, i < j\n",
    "Hᵢⱼ = (ρ*qᵢ*qⱼ*Pˡˡ-(qⱼ*qˡᵢ*ρ+qᵢ*qˡⱼ*ρ-qᵢ*qⱼ)*Pˡ)/(ρ^2*Pˡ^3)\n",
    "\n",
    "# Total\n",
    "total = sumHᵢₐUₐⱼ + HᵢᵢUᵢⱼ + Hᵢⱼ\n",
    "show(total.canonicalize_radical())"
   ]
  },
  {
   "cell_type": "markdown",
   "id": "7981f8a4",
   "metadata": {},
   "source": [
    "#### Case 2 of Proof\n",
    "The following provides the Sage components required for the proof of Case 2: $i > j$."
   ]
  },
  {
   "cell_type": "code",
   "execution_count": null,
   "id": "c3927bda",
   "metadata": {},
   "outputs": [],
   "source": [
    "# when j \\neq a\n",
    "Hⱼₐ = (ρ*qⱼ*qₐ*Pˡˡ-(qₐ*qˡⱼ*ρ+qⱼ*qˡₐ*ρ-qⱼ*qₐ)*Pˡ)/(ρ^2*Pˡ^3)\n",
    "\n",
    "# when a < j\n",
    "gₐⱼ = Pˡ + Pˡˡ*ρ - ρ*(qˡₐ/qₐ + qˡⱼ/qⱼ)*(Pˡ+Bⱼ-qˡₐ)+ρ*(Dⱼ - qˡₐ^2/qₐ)+(ρ*qˡₐ*qˡⱼ)/(qₐ*qⱼ)*(Aⱼ-qₐ)\n",
    "rⱼ =  Pˡ^2*ρ - Pˡˡ*ρ*Aⱼ + 2*Pˡ*ρ*Bⱼ - Pˡ*Aⱼ - ρ*(Aⱼ*Dⱼ - Bⱼ^2)\n",
    "Uₐⱼ = (qⱼ*gₐⱼ)/rⱼ\n",
    "\n",
    "HⱼₐUₐⱼ = Hⱼₐ*Uₐⱼ\n",
    "\n",
    "αⱼⱼ = (Pˡ*qⱼ - qˡⱼ*Aⱼ + qⱼ*Bⱼ)*Pˡ*qⱼ*ρ^2\n",
    "βⱼⱼ = (Pˡ*(qˡⱼ*ρ-qⱼ) - Pˡˡ*qⱼ*ρ + qˡⱼ*ρ*Bⱼ - qⱼ*ρ*Dⱼ)*(Pˡ*(qˡⱼ*ρ-qⱼ)- Pˡˡ*qⱼ*ρ)\n",
    "γⱼⱼ = (qˡⱼ*qⱼ+qˡⱼ*qⱼ)*ρ^2*Pˡ^2 - 2*(Pˡ+Pˡˡ*ρ)*ρ*Pˡ*qⱼ*qⱼ + (Pˡˡ*qˡⱼ*qⱼ*ρ - Pˡ*qˡⱼ*qˡⱼ*ρ + Pˡ*qˡⱼ*qⱼ)*ρ*Aⱼ + (qˡⱼ*qⱼ*ρ + qˡⱼ*qⱼ*ρ - qⱼ*qⱼ)*ρ*Pˡ*Bⱼ - Pˡˡ*qⱼ*qⱼ*ρ^2*Bⱼ - Pˡ*qⱼ*qⱼ*ρ^2*Dⱼ\n",
    "\n",
    "# Verify\n",
    "HUcheck = (αⱼⱼ*(qˡₐ^2/qₐ) + βⱼⱼ*qₐ + γⱼⱼ*qˡₐ)/(ρ^2*Pˡ^3*rⱼ)\n",
    "show((HUcheck-HⱼₐUₐⱼ).canonicalize_radical())"
   ]
  },
  {
   "cell_type": "code",
   "execution_count": null,
   "id": "fd7704d0",
   "metadata": {},
   "outputs": [],
   "source": [
    "# sum HjaUaj\n",
    "sumHⱼₐUₐⱼ = (αⱼⱼ*Dⱼ + βⱼⱼ*Aⱼ + γⱼⱼ*Bⱼ)/(ρ^2*Pˡ^3*rⱼ)\n",
    "\n",
    "# Hⱼⱼ\n",
    "Hⱼⱼ = (ρ*qⱼ^2*Pˡˡ-(2*qⱼ*qˡⱼ*ρ-qⱼ^2)*Pˡ-qⱼ*ρ*Pˡ^2)/(ρ^2*Pˡ^3)\n",
    "\n",
    "# Lⱼⱼ\n",
    "rj1 = Pˡ^2*ρ - Pˡˡ*ρ*(Aⱼ+qⱼ) + 2*Pˡ*ρ*(Bⱼ+qˡⱼ) - Pˡ*(Aⱼ+qⱼ) - ρ*((Aⱼ+qⱼ)*(Dⱼ+qˡⱼ^2/qⱼ) - (Bⱼ+qˡⱼ)^2)\n",
    "rⱼ =  Pˡ^2*ρ - Pˡˡ*ρ*Aⱼ + 2*Pˡ*ρ*Bⱼ - Pˡ*Aⱼ - ρ*(Aⱼ*Dⱼ - Bⱼ^2)\n",
    "Lⱼⱼ = (-qⱼ*rj1)/(Pˡ*ρ*rⱼ)\n",
    "\n",
    "# Total\n",
    "total = sumHⱼₐUₐⱼ + Hⱼⱼ - Lⱼⱼ\n",
    "show(total.canonicalize_radical())"
   ]
  },
  {
   "cell_type": "markdown",
   "id": "2359fbff",
   "metadata": {},
   "source": [
    "#### Case 3 of Proof\n",
    "The following provides the full proof of Case 3: $j < i$."
   ]
  },
  {
   "cell_type": "markdown",
   "id": "267dee99",
   "metadata": {},
   "source": [
    "In this case, we need to show that $(\\mathcal{H} U)_{ij} = \\sum^{j}_{a=1} \\mathcal{H}_{ia}U_{aj} = L_{ij}$. We note that the last element of the sum is simply $\\mathcal{H}_{ij}$. Also, since $j < i$, there will never be a point at which we have $\\mathcal{H}_{xy}$ where $x = y$. Thus, we get the following:\n",
    "\n",
    "$\\begin{align*}\n",
    "  (\\mathcal{H} U)_{ij} &= \\sum^{j-1}_{a=1} \\mathcal{H}_{ia}U_{aj} + \\mathcal{H}_{ij}\\\\\n",
    "  &= \\sum^{j-1}_{a=1} \\left(\\frac{\\alpha_{ij}\\left(\\frac{q'_a(\\rho)^2}{q_a(\\rho)}\\right) + \\beta_{ij} q_a(\\rho) + \\gamma_{ij} q'_a(\\rho)}{\\rho^2P'(\\rho)^3r_j}\\right) + \\mathcal{H}_{ij} \\text{, where } \\alpha_{ij},\\text{ } \\beta_{ij} \\text{ and } \\gamma_{ij} \\text{ are as defined in Case 1} \\\\\n",
    "  &= L_{ij}.\n",
    "\\end{align*}$\n",
    "\n",
    "These steps be verified with our computer algebra system as seen below. Note that the confirmation that $(\\mathcal{H} U)_{ij} = L_{ij}$ is done through checking that $(\\mathcal{H} U)_{ij} - L_{ij} = 0$. The computer algebra system shows that the result has a factor of $sumqP^2-sumqP_2-2sumu$ in the numerator, thus proving the result is 0 as seen in Case 1 and 2. Thus, this case holds."
   ]
  },
  {
   "cell_type": "code",
   "execution_count": null,
   "id": "266b29d9",
   "metadata": {},
   "outputs": [],
   "source": [
    "# when i \\neq a\n",
    "Hᵢₐ = (ρ*qᵢ*qₐ*Pˡˡ-(qₐ*qˡᵢ*ρ+qᵢ*qˡₐ*ρ-qᵢ*qₐ)*Pˡ)/(ρ^2*Pˡ^3)\n",
    "\n",
    "# when a < j\n",
    "gₐⱼ = Pˡ + Pˡˡ*ρ - ρ*(qˡₐ/qₐ + qˡⱼ/qⱼ)*(Pˡ+Bⱼ-qˡₐ)+ρ*(Dⱼ - qˡₐ^2/qₐ)+(ρ*qˡₐ*qˡⱼ)/(qₐ*qⱼ)*(Aⱼ-qₐ)\n",
    "rⱼ =  Pˡ^2*ρ - Pˡˡ*ρ*Aⱼ + 2*Pˡ*ρ*Bⱼ - Pˡ*Aⱼ - ρ*(Aⱼ*Dⱼ - Bⱼ^2)\n",
    "Uₐⱼ = (qⱼ*gₐⱼ)/rⱼ\n",
    "\n",
    "HᵢₐUₐⱼ = Hᵢₐ*Uₐⱼ\n",
    "\n",
    "αᵢⱼ = (Pˡ*qⱼ - qˡⱼ*Aⱼ + qⱼ*Bⱼ)*Pˡ*qᵢ*ρ^2\n",
    "βᵢⱼ = (Pˡ*(qˡⱼ*ρ-qⱼ) - Pˡˡ*qⱼ*ρ + qˡⱼ*ρ*Bⱼ - qⱼ*ρ*Dⱼ)*(Pˡ*(qˡᵢ*ρ-qᵢ)- Pˡˡ*qᵢ*ρ)\n",
    "γᵢⱼ = (qˡⱼ*qᵢ+qˡᵢ*qⱼ)*ρ^2*Pˡ^2 - 2*(Pˡ+Pˡˡ*ρ)*ρ*Pˡ*qᵢ*qⱼ + (Pˡˡ*qˡⱼ*qᵢ*ρ - Pˡ*qˡᵢ*qˡⱼ*ρ + Pˡ*qˡⱼ*qᵢ)*ρ*Aⱼ + (qˡⱼ*qᵢ*ρ + qˡᵢ*qⱼ*ρ - qᵢ*qⱼ)*ρ*Pˡ*Bⱼ - Pˡˡ*qᵢ*qⱼ*ρ^2*Bⱼ - Pˡ*qᵢ*qⱼ*ρ^2*Dⱼ\n",
    "\n",
    "HUcheck = (αᵢⱼ*(qˡₐ^2/qₐ) + βᵢⱼ*qₐ + γᵢⱼ*qˡₐ)/(ρ^2*Pˡ^3*rⱼ)\n",
    "\n",
    "show((HUcheck-HᵢₐUₐⱼ).canonicalize_radical())"
   ]
  },
  {
   "cell_type": "code",
   "execution_count": null,
   "id": "f8f71328",
   "metadata": {},
   "outputs": [],
   "source": [
    "# sum HᵢₐUₐⱼ\n",
    "sumHᵢₐUₐⱼ2 = (αᵢⱼ*Dⱼ + βᵢⱼ*Aⱼ + γᵢⱼ*Bⱼ)/(ρ^2*Pˡ^3*rⱼ)\n",
    "\n",
    "# Hᵢⱼ, j < i\n",
    "Hᵢⱼ = (ρ*qᵢ*qⱼ*Pˡˡ-(qⱼ*qˡᵢ*ρ+qᵢ*qˡⱼ*ρ-qᵢ*qⱼ)*Pˡ)/(ρ^2*Pˡ^3)\n",
    "\n",
    "# Lᵢⱼ, j < i\n",
    "sᵢⱼ = Pˡˡ*ρ + ρ*Dⱼ - ρ*(qˡᵢ/qᵢ + qˡⱼ/qⱼ)*(Pˡ+Bⱼ)+Pˡ+((ρ*qˡᵢ*qˡⱼ)/(qᵢ*qⱼ))*Aⱼ\n",
    "rⱼ =  Pˡ^2*ρ - Pˡˡ*ρ*Aⱼ + 2*Pˡ*ρ*Bⱼ - Pˡ*Aⱼ - ρ*(Aⱼ*Dⱼ - Bⱼ^2)\n",
    "Lᵢⱼ = (qⱼ*qᵢ*sᵢⱼ)/(Pˡ*ρ*rⱼ)\n",
    "\n",
    "\n",
    "# Total\n",
    "total = sumHᵢₐUₐⱼ2 + Hᵢⱼ - Lᵢⱼ\n",
    "show(total.canonicalize_radical())"
   ]
  },
  {
   "cell_type": "markdown",
   "id": "68a39e68",
   "metadata": {},
   "source": [
    "If desired, the code below can be used to generate the matrices L and U for fixed dimension d"
   ]
  },
  {
   "cell_type": "code",
   "execution_count": null,
   "id": "b956a1e3",
   "metadata": {},
   "outputs": [],
   "source": [
    "# creates the phase Hessian matrix with all symbolic values of size d x d \n",
    "def getHesSymbolic(d):\n",
    "    H = matrix(SR,d)\n",
    "    q = list(var('q', n=d))\n",
    "    qˡ = list(var('qˡ', n=d))\n",
    "    \n",
    "    for i in range(d):\n",
    "        for j in range(d):\n",
    "            H[i,j] = (ρ*q[i]*q[j]*Pˡˡ-(-q[i]*q[j]+q[j]*qˡ[i]*ρ+q[i]*qˡ[j]*ρ)*Pˡ)/(ρ^2*Pˡ^3)\n",
    "            if i == j: H[i,j] = H[i,j] - (q[i])/(ρ*Pˡ)\n",
    "\n",
    "    return H\n",
    "\n",
    "# displays matrices L and U, along with their entries determined explicitly through the solving of equations\n",
    "#    for dimension d\n",
    "def findLU(d):    \n",
    "    u = list(var('u', n=(d*(d-1)/2)))\n",
    "    l = list(var('l', n=(d*(d+1)/2)))\n",
    "\n",
    "    U = matrix(SR, d, d)\n",
    "    for i in range(d):\n",
    "        for j in range(d):\n",
    "            if (i == j):\n",
    "                U[i,j] = 1\n",
    "            if (i > j):\n",
    "                U[i,j] = 0\n",
    "\n",
    "    counter = 0\n",
    "    for i in range(d-1):\n",
    "        for j in range(i+1, d):\n",
    "            U[i,j] = u[counter]\n",
    "            counter += 1\n",
    "\n",
    "    L = matrix(SR, d, d)\n",
    "    for i in range(d):\n",
    "        for j in range(d):\n",
    "            if (i < j):\n",
    "                L[i,j] = 0\n",
    "\n",
    "    counter = 0\n",
    "    for i in range(d):\n",
    "        for j in range(i+1):\n",
    "            L[i,j] = l[counter]\n",
    "            counter += 1\n",
    "\n",
    "    show(U)\n",
    "    show(L)\n",
    "\n",
    "    H = getHesSymbolic(d)\n",
    "    HU = H*U\n",
    "\n",
    "    equations = [None]*d^2\n",
    "    k = 0\n",
    "    for i in range(d):\n",
    "        for j in range(d):\n",
    "            equations[k] = HU[i,j]==L[i,j]\n",
    "            k = k+1\n",
    "    variables = u + l\n",
    "    solved = solve(equations, variables)\n",
    "    \n",
    "    for sol in solved[0]:\n",
    "        show(sol)"
   ]
  },
  {
   "cell_type": "code",
   "execution_count": null,
   "id": "74db3eb6",
   "metadata": {},
   "outputs": [],
   "source": [
    "findLU(2)"
   ]
  },
  {
   "cell_type": "code",
   "execution_count": null,
   "id": "fbcead0e",
   "metadata": {},
   "outputs": [],
   "source": []
  }
 ],
 "metadata": {
  "@webio": {
   "lastCommId": null,
   "lastKernelId": null
  },
  "kernelspec": {
   "display_name": "SageMath 9.7",
   "language": "sage",
   "name": "sagemath-9.7"
  },
  "language_info": {
   "codemirror_mode": {
    "name": "ipython",
    "version": 3
   },
   "file_extension": ".py",
   "mimetype": "text/x-python",
   "name": "python",
   "nbconvert_exporter": "python",
   "pygments_lexer": "ipython3",
   "version": "3.10.5"
  }
 },
 "nbformat": 4,
 "nbformat_minor": 5
}

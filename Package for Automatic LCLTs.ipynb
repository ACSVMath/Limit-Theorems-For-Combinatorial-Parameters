{
 "cells": [
  {
   "cell_type": "markdown",
   "id": "5ed36bdd",
   "metadata": {},
   "source": [
    "# Multivariate Limit Theorems via ACSV\n",
    "\n",
    "This worksheet implements SageMath code for automatically computing central limit theorems from multivariate rational generating functions. Details on the theory behind the package can be found in the paper [*Central Limit Theorems via Analytic Combinatorics in Several Variables*](https://arxiv.org/abs/2211.15492) by Stephen Melczer and Tiadora Ruza. \n",
    "\n",
    "Our code relies on the `sage_acsv` package available from the git repository [https://github.com/ACSVmath/sage_acsv](https://github.com/ACSVmath/sage_acsv). Our code for central limit theorems will be incorporated into future versions of the core `sage_acsv` package. The last stable version of `sage_acsv` can be installed from the command line on a computer with SageMath installed by running\n",
    "\n",
    "`sage -pip install sage-acsv`\n",
    "\n",
    "**Note:** The stable version installed by pip does not currently support irrational direction vectors. Because of this, the current code does not *prove* central limit theorems with irrational peaks by default (it returns a warning and what the limit theorem would be if the required conditions could be proven). If you want to prove central limit theorems for such cases you must download and manually install the code from the branch [https://github.com/ACSVMath/sage_acsv/tree/irrational_directions](https://github.com/ACSVMath/sage_acsv/tree/irrational_directions) and pass the argument `support_irrat=True` to the `getLCLT` function."
   ]
  },
  {
   "cell_type": "markdown",
   "id": "248f55dd",
   "metadata": {},
   "source": [
    "## Code for the Package"
   ]
  },
  {
   "cell_type": "code",
   "execution_count": 1,
   "id": "161f5607-31a7-486e-a9a9-23a2910912e4",
   "metadata": {},
   "outputs": [],
   "source": [
    "# Import the sage_acsv package for verifying minimal critical points\n",
    "from sage_acsv import *"
   ]
  },
  {
   "cell_type": "code",
   "execution_count": 2,
   "id": "a4d264ac-2c8c-47e8-95f6-17d9ec8d0f3e",
   "metadata": {},
   "outputs": [],
   "source": [
    "# Helper function\n",
    "def HessianMatrixWithLog(H, vs, r):\n",
    "    r\"\"\"Computes the Hessian matrix appearing in LCLT.\n",
    "\n",
    "    INPUT:\n",
    "\n",
    "    * ``H`` -- a polynomail (the denominator of the rational GF `F`)\n",
    "    * ``vs`` -- list of variables ``z_1, ..., z_d``\n",
    "    * ``r`` -- direction vector of length `d` with positive entries\n",
    "\n",
    "    OUTPUT:\n",
    "\n",
    "    The Hessian matrix with rational function entries in the variables of ``vs``.\n",
    "    \"\"\"\n",
    "    z_d = vs[-1]\n",
    "    d = len(vs)\n",
    "\n",
    "    # Build d x d matrix of U[i,j] = z_i * z_j * H'_{z_i * z_j}\n",
    "    U = matrix(\n",
    "        [\n",
    "            [\n",
    "                v1 * v2 * H.derivative(v1, v2)/(z_d * H.derivative(z_d))\n",
    "                for v2 in vs\n",
    "            ] for v1 in vs\n",
    "        ]\n",
    "    )\n",
    "    V = [(r[k] / r[-1]) for k in range(d)]\n",
    "\n",
    "    # Build (d-1) x (d-1) Matrix for Hessian\n",
    "    Hess = [\n",
    "        [\n",
    "            V[i] * V[j] + U[i][j] - V[j] * U[i][-1] - V[i]*U[j][-1]\n",
    "            + V[i] * V[j] * U[-1][-1]\n",
    "            for j in range(d-1)\n",
    "        ] for i in range(d-1)\n",
    "    ]\n",
    "    for i in range(d-1):\n",
    "        Hess[i][i] = Hess[i][i] + V[i]\n",
    "\n",
    "    # Return Hessian\n",
    "    return matrix(Hess)"
   ]
  },
  {
   "cell_type": "code",
   "execution_count": 3,
   "id": "1350c529-efef-4e49-b7bb-6fd6f5dadd42",
   "metadata": {},
   "outputs": [],
   "source": [
    "# Main function to compute LCLT\n",
    "def getLCLT(F, main_var, as_symbolic=False, support_irrat=False):\n",
    "    r\"\"\"Take a multivariate rational generating function, check if it admits a \n",
    "    minimal critical point of a form implying a local central limit theorem, and\n",
    "    (if so) return the local central limit theorem.\n",
    "\n",
    "    INPUT:\n",
    "\n",
    "    * ``F`` -- The rational function ``G/H`` in ``d`` variables. This function is\n",
    "      assumed to have a combinatorial expansion.\n",
    "    * ``main_var`` -- The variable that marks the ``size`` of the objects (so that the limit\n",
    "    theorem holds as the exponent of ``main_var`` goes to infinity).\n",
    "    * ``as_symbolic`` -- If ``True``, returns the limit theorem as an expression from the symbolic\n",
    "        ring ``SR`` in the variable ``n``. If ``False``, the default, returns a tuple \n",
    "        (a, n^b, pi^b, C, D, v) such that the local central limit theorem is specified by the\n",
    "        function f(s) = a^n * n^b * pi^b * C * exp(-((s-n*v)*D*(s-n*v).transpose())/2/n)\n",
    "\n",
    "    OUTPUT:\n",
    "\n",
    "    A representation of the local central limit theorem, either as a list of tuples,\n",
    "    or as a symbolic expression.\n",
    "    \"\"\"\n",
    "\n",
    "    # Initialize quantities\n",
    "    G, H = F.numerator(), F.denominator()\n",
    "    zvariables = [v for v in H.variables() if v != main_var]\n",
    "    R = PolynomialRing(QQ,zvariables + [main_var])\n",
    "    vs = R.gens()\n",
    "    \n",
    "    # Make sure G and H are coprime, and that H does not vanish at 0\n",
    "    G, H = RationalFunctionReduce(G, H)\n",
    "    G, H = R(G), R(H)\n",
    "    if H.subs({v: 0 for v in vs}) == 0:\n",
    "        raise ValueError(\"Denominator vanishes at 0.\")\n",
    "\n",
    "    # Find rho\n",
    "    P = H.subs({v: 1 for v in vs[0:-1]})\n",
    "    rts = [r for r in QQ[vs[-1]](P).roots(AA, multiplicities=False) if r>0]\n",
    "    if len(rts) == 0:\n",
    "        raise ValueError(\"H(1,rho)=0 has no positive solution.\")\n",
    "    rho = min(rts)\n",
    "    sbs = {v: 1 for v in vs[0:-1]} | {vs[-1]:rho}\n",
    "\n",
    "    # Check numerator and denominator requirements are met\n",
    "    if (H.derivative(vs[-1])).subs(sbs) == 0:\n",
    "        raise ValueError(\"The partial derivative of the denominator at (1, rho) is 0.\")\n",
    "    \n",
    "    if G.subs(sbs) == 0:\n",
    "        raise ValueError(\"The numerator at (1, rho) is 0.\")\n",
    "\n",
    "    # Get direction for LCLT\n",
    "    m = [H.derivative(v).subs(sbs)/(rho*H.derivative(vs[-1]).subs(sbs)) for v in vs[0:-1]] + [1]\n",
    "\n",
    "    # Check if we have a rational direction, otherwise print warning unless user specifies custom sage_acsv branch\n",
    "    isRational = True\n",
    "    if max([k.degree() for k in m[0:-1]]) == 1:\n",
    "        multiple = LCM([QQ(k).denom() for k in m])\n",
    "        r = [ZZ(multiple*k) for k in m]\n",
    "    else:\n",
    "        if not support_irrat:\n",
    "            acsv_logger.warning(\n",
    "                    \"Direction is not rational. If you have a version of sage_acsv that supports \"\n",
    "                    f\"irrational directions, call the same function with irrat_check = False to try and prove an LCLT.\" \n",
    "                    f\" Assuming that we have a strictly minimal critical point of the required form, the following LCLT holds.\"\n",
    "            )\n",
    "            isRational = False\n",
    "        r = m\n",
    "\n",
    "    RR, (q, lambda_, u_) = PolynomialRing(QQ, 'q, lambda_, u_').objgens()\n",
    "    expanded_R, _ = PolynomialRing(QQ, len(vs)+3, vs + (q, lambda_, u_)).objgens()\n",
    "\n",
    "    vs = [expanded_R(v) for v in vs]\n",
    "    q, lambda_, u_ = expanded_R(q), expanded_R(lambda_), expanded_R(u_)\n",
    "    vsT = vs + [q, lambda_]\n",
    "    G, H = expanded_R(G), expanded_R(H)\n",
    "\n",
    "    all_variables = (vs, lambda_, q, u_)\n",
    "    d = len(vs)\n",
    "    rd = r[-1]\n",
    "\n",
    "    if isRational:\n",
    "        for _ in range(MAX_MIN_CRIT_RETRIES):\n",
    "            try:\n",
    "                # Find minimal critical points in Kronecker Representation\n",
    "                min_crit_pts = MinimalCriticalCombinatorial(\n",
    "                    G, H, all_variables,\n",
    "                    r=r\n",
    "                )\n",
    "\n",
    "                if len(min_crit_pts) != 1 or min_crit_pts != [[1 for v in range(d-1)] + [rho]]:\n",
    "                    raise ValueError(\"The point (1,rho) is not the only critical point with this coordinate-wise modulus.\")\n",
    "                break\n",
    "            except Exception as e:\n",
    "                # In case form doesn't separate, we want to try again\n",
    "                if isinstance(e, ACSVException) and e.retry:\n",
    "                    acsv_logger.warning(\n",
    "                        \"Randomly generated linear form was not suitable, \"\n",
    "                        f\"encountered error: {e}\\nRetrying...\"\n",
    "                    )\n",
    "                    continue\n",
    "                elif support_irrat:\n",
    "                    acsv_logger.warning(\n",
    "                        \"Error occurred during check of minimal critical point. \"\n",
    "                        f\"This is preliminary work in progress. Please ensure that \"\n",
    "                        f\"your version of sage_acsv supports irrational directions. \"\n",
    "                        f\"If it doesn't, call this function again with support_irrat = False \"\n",
    "                        f\"to see potential results. \"\n",
    "                        f\"Encountered error: {e}\\n\"\n",
    "                    )\n",
    "                    return\n",
    "                else:\n",
    "                    raise e\n",
    "    \n",
    "    sbs = {v:1 for v in vsT[0:-3]} | {vsT[-3]:rho}\n",
    "    Hess = HessianMatrixWithLog(H, vsT[0:-2], r)\n",
    "    Hess = Hess.subs({v:1 for v in Hess.base_ring().gens()[0:-4]} | {Hess.base_ring().gens()[-4]:rho})\n",
    "    Det = Hess.determinant()\n",
    "\n",
    "    if Det == 0:\n",
    "        raise ValueError(\"Hessian determinant is 0.\")\n",
    "\n",
    "    # Values appearing in asymptotics\n",
    "    base = 1/rho\n",
    "    constant = - AA(G.subs(sbs) / rho / H.derivative(vs[-1]).subs(sbs) / (2^(d-1) * Det).sqrt())\n",
    "    exponent = (1-d)/2\n",
    "\n",
    "    s = matrix((var('s', n=d-1)))\n",
    "    invHess = Hess.inverse()\n",
    "    \n",
    "    n = SR.var('n')\n",
    "    result = (base, n^exponent, pi^exponent, constant, invHess, matrix(m[:-1]))\n",
    "    \n",
    "    if as_symbolic:\n",
    "        (a, b, c, d, e, f) = result\n",
    "        \n",
    "        if a.degree() <= 2:\n",
    "            a = base.radical_expression()\n",
    "        if d.degree() <= 2:\n",
    "            d = constant.radical_expression()\n",
    "            \n",
    "        if max([AA(k).degree() for k in e.list()] + [AA(k).degree() for k in m[:-1]]) <=2:\n",
    "            sfactor = exp(-(((s-n*f)*e*(s-n*f).transpose())[0,0]).simplify()/2/n)\n",
    "        else: \n",
    "            sfactor = exp(-(((s-n*f)*e*(s-n*f).transpose())[0,0])/2/n)\n",
    "        \n",
    "        result = a^n * b * c * d * sfactor\n",
    "\n",
    "    return result"
   ]
  },
  {
   "cell_type": "markdown",
   "id": "2256c36e",
   "metadata": {},
   "source": [
    "## Examples Using the Package"
   ]
  },
  {
   "cell_type": "markdown",
   "id": "05c51fcc",
   "metadata": {},
   "source": [
    "#### Strings with Tracked Letters"
   ]
  },
  {
   "cell_type": "code",
   "execution_count": 5,
   "id": "1a5f621a",
   "metadata": {},
   "outputs": [
    {
     "data": {
      "text/html": [
       "<html>\\(\\displaystyle \\frac{\\sqrt{2} 2^{n} e^{\\left(-\\frac{{\\left(n - 2 \\, s_{0}\\right)}^{2}}{2 \\, n}\\right)}}{\\sqrt{\\pi} \\sqrt{n}}\\)</html>"
      ],
      "text/latex": [
       "$\\displaystyle \\frac{\\sqrt{2} 2^{n} e^{\\left(-\\frac{{\\left(n - 2 \\, s_{0}\\right)}^{2}}{2 \\, n}\\right)}}{\\sqrt{\\pi} \\sqrt{n}}$"
      ],
      "text/plain": [
       "sqrt(2)*2^n*e^(-1/2*(n - 2*s0)^2/n)/(sqrt(pi)*sqrt(n))"
      ]
     },
     "metadata": {},
     "output_type": "display_data"
    }
   ],
   "source": [
    "# Limit theorem for number s0 of 0s in binary strings of length n\n",
    "var('z t')\n",
    "show(getLCLT(1/(1-z*t-t), t, as_symbolic = True))"
   ]
  },
  {
   "cell_type": "code",
   "execution_count": 8,
   "id": "dc4286a0",
   "metadata": {},
   "outputs": [
    {
     "data": {
      "text/html": [
       "<html>\\(\\displaystyle \\frac{2 \\, \\sqrt{\\frac{2}{3}} 4^{n} e^{\\left(-\\frac{{\\left(n - 4 \\, s_{0}\\right)}^{2}}{6 \\, n}\\right)}}{\\sqrt{\\pi} \\sqrt{n}}\\)</html>"
      ],
      "text/latex": [
       "$\\displaystyle \\frac{2 \\, \\sqrt{\\frac{2}{3}} 4^{n} e^{\\left(-\\frac{{\\left(n - 4 \\, s_{0}\\right)}^{2}}{6 \\, n}\\right)}}{\\sqrt{\\pi} \\sqrt{n}}$"
      ],
      "text/plain": [
       "2*sqrt(2/3)*4^n*e^(-1/6*(n - 4*s0)^2/n)/(sqrt(pi)*sqrt(n))"
      ]
     },
     "metadata": {},
     "output_type": "display_data"
    }
   ],
   "source": [
    "# Limit theorem for number s0 of 0s in 0123-strings of length n\n",
    "var('z t')\n",
    "show(getLCLT(1/(1-z*t-3*t), t, as_symbolic = True))"
   ]
  },
  {
   "cell_type": "code",
   "execution_count": 7,
   "id": "0f165d51",
   "metadata": {},
   "outputs": [
    {
     "data": {
      "text/html": [
       "<html>\\(\\displaystyle \\frac{3 \\, \\sqrt{3} 3^{n} e^{\\left(-\\frac{{\\left(n - 2 \\, s_{0} - s_{1}\\right)} {\\left(n - 3 \\, s_{0}\\right)} + {\\left(n - s_{0} - 2 \\, s_{1}\\right)} {\\left(n - 3 \\, s_{1}\\right)}}{2 \\, n}\\right)}}{2 \\, \\pi n}\\)</html>"
      ],
      "text/latex": [
       "$\\displaystyle \\frac{3 \\, \\sqrt{3} 3^{n} e^{\\left(-\\frac{{\\left(n - 2 \\, s_{0} - s_{1}\\right)} {\\left(n - 3 \\, s_{0}\\right)} + {\\left(n - s_{0} - 2 \\, s_{1}\\right)} {\\left(n - 3 \\, s_{1}\\right)}}{2 \\, n}\\right)}}{2 \\, \\pi n}$"
      ],
      "text/plain": [
       "3/2*sqrt(3)*3^n*e^(-1/2*((n - 2*s0 - s1)*(n - 3*s0) + (n - s0 - 2*s1)*(n - 3*s1))/n)/(pi*n)"
      ]
     },
     "metadata": {},
     "output_type": "display_data"
    }
   ],
   "source": [
    "# Limit theorem for number s0 of 0s and s1 of 1s in 012-strings of length n\n",
    "var('x y t')\n",
    "F = 1/(1-x*t-y*t-t)\n",
    "show(getLCLT(F, t, as_symbolic = True))"
   ]
  },
  {
   "cell_type": "code",
   "execution_count": 11,
   "id": "f15319eb",
   "metadata": {},
   "outputs": [
    {
     "data": {
      "text/html": [
       "<html>\\(\\displaystyle \\frac{5 \\, \\sqrt{\\frac{5}{3}} 5^{n} e^{\\left(-\\frac{{\\left(n - 4 \\, s_{0} - s_{1}\\right)} {\\left(n - 5 \\, s_{0}\\right)} + {\\left(n - s_{0} - 4 \\, s_{1}\\right)} {\\left(n - 5 \\, s_{1}\\right)}}{6 \\, n}\\right)}}{2 \\, \\pi n}\\)</html>"
      ],
      "text/latex": [
       "$\\displaystyle \\frac{5 \\, \\sqrt{\\frac{5}{3}} 5^{n} e^{\\left(-\\frac{{\\left(n - 4 \\, s_{0} - s_{1}\\right)} {\\left(n - 5 \\, s_{0}\\right)} + {\\left(n - s_{0} - 4 \\, s_{1}\\right)} {\\left(n - 5 \\, s_{1}\\right)}}{6 \\, n}\\right)}}{2 \\, \\pi n}$"
      ],
      "text/plain": [
       "5/2*sqrt(5/3)*5^n*e^(-1/6*((n - 4*s0 - s1)*(n - 5*s0) + (n - s0 - 4*s1)*(n - 5*s1))/n)/(pi*n)"
      ]
     },
     "metadata": {},
     "output_type": "display_data"
    }
   ],
   "source": [
    "# Limit theorem for number s0 of 0s and s1 of 1s in 01234-strings of length n\n",
    "var('x y t')\n",
    "F = 1/(1-x*t-y*t-3*t)\n",
    "show(getLCLT(F, t, as_symbolic = True))"
   ]
  },
  {
   "cell_type": "markdown",
   "id": "2e1b6bcb",
   "metadata": {},
   "source": [
    "#### Compositions with Tracked Summands"
   ]
  },
  {
   "cell_type": "code",
   "execution_count": 12,
   "id": "a763099c",
   "metadata": {},
   "outputs": [
    {
     "data": {
      "text/html": [
       "<html>\\(\\displaystyle \\frac{\\sqrt{\\frac{2}{5}} 2^{n} e^{\\left(-\\frac{{\\left(n - 4 \\, s_{0}\\right)}^{2}}{10 \\, n}\\right)}}{\\sqrt{\\pi} \\sqrt{n}}\\)</html>"
      ],
      "text/latex": [
       "$\\displaystyle \\frac{\\sqrt{\\frac{2}{5}} 2^{n} e^{\\left(-\\frac{{\\left(n - 4 \\, s_{0}\\right)}^{2}}{10 \\, n}\\right)}}{\\sqrt{\\pi} \\sqrt{n}}$"
      ],
      "text/plain": [
       "sqrt(2/5)*2^n*e^(-1/10*(n - 4*s0)^2/n)/(sqrt(pi)*sqrt(n))"
      ]
     },
     "metadata": {},
     "output_type": "display_data"
    }
   ],
   "source": [
    "# Limit theorem for number s0 of the 1s in compositions of length n\n",
    "var('x t')\n",
    "F = 1/(1-x*t-t^2/(1-t))\n",
    "show(getLCLT(F, t, as_symbolic = True))"
   ]
  },
  {
   "cell_type": "code",
   "execution_count": 13,
   "id": "d03d0170",
   "metadata": {},
   "outputs": [
    {
     "data": {
      "text/html": [
       "<html>\\(\\displaystyle \\frac{8 \\, \\sqrt{\\frac{1}{35}} 2^{n} e^{\\left(-\\frac{7 \\, {\\left(n - 4 \\, s_{0}\\right)}^{2} + 5 \\, {\\left(n - 8 \\, s_{1}\\right)}^{2}}{70 \\, n}\\right)}}{\\pi n}\\)</html>"
      ],
      "text/latex": [
       "$\\displaystyle \\frac{8 \\, \\sqrt{\\frac{1}{35}} 2^{n} e^{\\left(-\\frac{7 \\, {\\left(n - 4 \\, s_{0}\\right)}^{2} + 5 \\, {\\left(n - 8 \\, s_{1}\\right)}^{2}}{70 \\, n}\\right)}}{\\pi n}$"
      ],
      "text/plain": [
       "8*sqrt(1/35)*2^n*e^(-1/70*(7*(n - 4*s0)^2 + 5*(n - 8*s1)^2)/n)/(pi*n)"
      ]
     },
     "metadata": {},
     "output_type": "display_data"
    }
   ],
   "source": [
    "# Limit theorem for number s0 of 1s and s1 of 2s in compositions of length n\n",
    "var('x y t')\n",
    "F = 1/(1-x*t-y*t^2-t^3/(1-t))\n",
    "show(getLCLT(F, t, as_symbolic = True))"
   ]
  },
  {
   "cell_type": "code",
   "execution_count": 14,
   "id": "d603f2aa",
   "metadata": {},
   "outputs": [
    {
     "data": {
      "text/html": [
       "<html>\\(\\displaystyle \\frac{32 \\, \\sqrt{\\frac{2}{107}} 2^{n} e^{\\left(-\\frac{{\\left(24 \\, n - 87 \\, s_{0} - 4 \\, s_{1} - 28 \\, s_{2}\\right)} {\\left(n - 4 \\, s_{0}\\right)} + {\\left(19 \\, n - 2 \\, s_{0} - 128 \\, s_{1} - 40 \\, s_{2}\\right)} {\\left(n - 8 \\, s_{1}\\right)} + {\\left(13 \\, n - 7 \\, s_{0} - 20 \\, s_{1} - 140 \\, s_{2}\\right)} {\\left(n - 16 \\, s_{2}\\right)}}{214 \\, n}\\right)}}{\\pi^{\\frac{3}{2}} n^{\\frac{3}{2}}}\\)</html>"
      ],
      "text/latex": [
       "$\\displaystyle \\frac{32 \\, \\sqrt{\\frac{2}{107}} 2^{n} e^{\\left(-\\frac{{\\left(24 \\, n - 87 \\, s_{0} - 4 \\, s_{1} - 28 \\, s_{2}\\right)} {\\left(n - 4 \\, s_{0}\\right)} + {\\left(19 \\, n - 2 \\, s_{0} - 128 \\, s_{1} - 40 \\, s_{2}\\right)} {\\left(n - 8 \\, s_{1}\\right)} + {\\left(13 \\, n - 7 \\, s_{0} - 20 \\, s_{1} - 140 \\, s_{2}\\right)} {\\left(n - 16 \\, s_{2}\\right)}}{214 \\, n}\\right)}}{\\pi^{\\frac{3}{2}} n^{\\frac{3}{2}}}$"
      ],
      "text/plain": [
       "32*sqrt(2/107)*2^n*e^(-1/214*((24*n - 87*s0 - 4*s1 - 28*s2)*(n - 4*s0) + (19*n - 2*s0 - 128*s1 - 40*s2)*(n - 8*s1) + (13*n - 7*s0 - 20*s1 - 140*s2)*(n - 16*s2))/n)/(pi^(3/2)*n^(3/2))"
      ]
     },
     "metadata": {},
     "output_type": "display_data"
    }
   ],
   "source": [
    "# Limit theorem for number s0 of 1s, s1 of 2s and s2 of 3s in compositions of length n\n",
    "var('z1 z2 z3 t')\n",
    "F = 1/(1-z1*t-z2*t^2-z3*t^3-t^4/(1-t))\n",
    "show(getLCLT(F, t, as_symbolic = True))"
   ]
  },
  {
   "cell_type": "markdown",
   "id": "7b6ebaef-5e49-46f8-aa0b-bf666170b056",
   "metadata": {},
   "source": [
    "#### Permutations with Restricted Cycles"
   ]
  },
  {
   "cell_type": "code",
   "execution_count": 21,
   "id": "05f995c8",
   "metadata": {},
   "outputs": [
    {
     "name": "stderr",
     "output_type": "stream",
     "text": [
      "WARNING:sage_acsv:Direction is not rational. If you have a version of sage_acsv that supports irrational directions, call the same function with irrat_check = False to try and prove an LCLT. Assuming that we have a strictly minimal critical point of the required form, the following LCLT holds.\n"
     ]
    },
    {
     "data": {
      "text/html": [
       "<html>\\(\\displaystyle \\frac{1.710862642974252? \\, {\\left(\\frac{1}{2} \\, \\sqrt{5} + \\frac{1}{2}\\right)}^{n} e^{\\left(\\frac{{\\left(n {\\left(\\sqrt{5} - 1\\right)} - 2 \\, \\sqrt{5} s_{0}\\right)} {\\left(n {\\left(\\sqrt{5} - 5\\right)} + 10 \\, s_{0}\\right)}}{8 \\, n}\\right)}}{\\sqrt{\\pi} \\sqrt{n}}\\)</html>"
      ],
      "text/latex": [
       "$\\displaystyle \\frac{1.710862642974252? \\, {\\left(\\frac{1}{2} \\, \\sqrt{5} + \\frac{1}{2}\\right)}^{n} e^{\\left(\\frac{{\\left(n {\\left(\\sqrt{5} - 1\\right)} - 2 \\, \\sqrt{5} s_{0}\\right)} {\\left(n {\\left(\\sqrt{5} - 5\\right)} + 10 \\, s_{0}\\right)}}{8 \\, n}\\right)}}{\\sqrt{\\pi} \\sqrt{n}}$"
      ],
      "text/plain": [
       "1.710862642974252?*(1/2*sqrt(5) + 1/2)^n*e^(1/8*(n*(sqrt(5) - 1) - 2*sqrt(5)*s0)*(n*(sqrt(5) - 5) + 10*s0)/n)/(sqrt(pi)*sqrt(n))"
      ]
     },
     "metadata": {},
     "output_type": "display_data"
    }
   ],
   "source": [
    "# We can run examples with irrational directions but by default we don't check the assumptions for LCLT\n",
    "var('z t')\n",
    "F = 1/(1-t-z*t^2)\n",
    "show(getLCLT(F, t, as_symbolic = True))"
   ]
  },
  {
   "cell_type": "code",
   "execution_count": 22,
   "id": "df5e8e71",
   "metadata": {},
   "outputs": [
    {
     "data": {
      "text/html": [
       "<html>\\(\\displaystyle \\frac{1.710862642974252? \\, {\\left(\\frac{1}{2} \\, \\sqrt{5} + \\frac{1}{2}\\right)}^{n} e^{\\left(\\frac{{\\left(n {\\left(\\sqrt{5} - 1\\right)} - 2 \\, \\sqrt{5} s_{0}\\right)} {\\left(n {\\left(\\sqrt{5} - 5\\right)} + 10 \\, s_{0}\\right)}}{8 \\, n}\\right)}}{\\sqrt{\\pi} \\sqrt{n}}\\)</html>"
      ],
      "text/latex": [
       "$\\displaystyle \\frac{1.710862642974252? \\, {\\left(\\frac{1}{2} \\, \\sqrt{5} + \\frac{1}{2}\\right)}^{n} e^{\\left(\\frac{{\\left(n {\\left(\\sqrt{5} - 1\\right)} - 2 \\, \\sqrt{5} s_{0}\\right)} {\\left(n {\\left(\\sqrt{5} - 5\\right)} + 10 \\, s_{0}\\right)}}{8 \\, n}\\right)}}{\\sqrt{\\pi} \\sqrt{n}}$"
      ],
      "text/plain": [
       "1.710862642974252?*(1/2*sqrt(5) + 1/2)^n*e^(1/8*(n*(sqrt(5) - 1) - 2*sqrt(5)*s0)*(n*(sqrt(5) - 5) + 10*s0)/n)/(sqrt(pi)*sqrt(n))"
      ]
     },
     "metadata": {},
     "output_type": "display_data"
    }
   ],
   "source": [
    "# If a newer branch of sage_acsv that supports irrational directions is installed, we can prove the result\n",
    "# by specifying the parameter support_irrat = True\n",
    "var('z t')\n",
    "F = 1/(1-t-z*t^2)\n",
    "show(getLCLT(F, t, as_symbolic = True, support_irrat = True))"
   ]
  },
  {
   "cell_type": "code",
   "execution_count": 4,
   "id": "56e639b1",
   "metadata": {},
   "outputs": [
    {
     "data": {
      "text/html": [
       "<html>\\(\\displaystyle \\frac{5.030774639167280? \\cdot 1.839286755214161?^{n} e^{\\left(-\\frac{{\\left(-0.1828035329682955? \\, n + s_{0}\\right)} {\\left(-4.331318273807052? \\, n + 15.75001457299826? \\, s_{0} + 14.61097905351492? \\, s_{1}\\right)} + {\\left(-0.0993882723561560? \\, n + s_{1}\\right)} {\\left(-5.688465294663696? \\, n + 14.61097905351492? \\, s_{0} + 30.36099362651318? \\, s_{1}\\right)}}{2 \\, n}\\right)}}{\\pi n}\\)</html>"
      ],
      "text/latex": [
       "$\\displaystyle \\frac{5.030774639167280? \\cdot 1.839286755214161?^{n} e^{\\left(-\\frac{{\\left(-0.1828035329682955? \\, n + s_{0}\\right)} {\\left(-4.331318273807052? \\, n + 15.75001457299826? \\, s_{0} + 14.61097905351492? \\, s_{1}\\right)} + {\\left(-0.0993882723561560? \\, n + s_{1}\\right)} {\\left(-5.688465294663696? \\, n + 14.61097905351492? \\, s_{0} + 30.36099362651318? \\, s_{1}\\right)}}{2 \\, n}\\right)}}{\\pi n}$"
      ],
      "text/plain": [
       "5.030774639167280?*1.839286755214161?^n*e^(-1/2*((-0.1828035329682955?*n + s0)*(-4.331318273807052?*n + 15.75001457299826?*s0 + 14.61097905351492?*s1) + (-0.0993882723561560?*n + s1)*(-5.688465294663696?*n + 14.61097905351492?*s0 + 30.36099362651318?*s1))/n)/(pi*n)"
      ]
     },
     "metadata": {},
     "output_type": "display_data"
    }
   ],
   "source": [
    "var('x y t')\n",
    "F = 1/(1-t-x*t^2-y*t^3)\n",
    "show(getLCLT(F, t, as_symbolic=True, support_irrat = True))"
   ]
  },
  {
   "cell_type": "code",
   "execution_count": 8,
   "id": "7b346014",
   "metadata": {},
   "outputs": [
    {
     "name": "stderr",
     "output_type": "stream",
     "text": [
      "WARNING:sage_acsv:Error occurred during check of minimal critical point. This is preliminary work in progress. Please ensure that your version of sage_acsv supports irrational directions. If it doesn't, call this function again with support_irrat = False to see potential results. Encountered error: Cannot coerce irrational Algebraic Real -0.1828035329682955? to Rational\n",
      "\n"
     ]
    },
    {
     "data": {
      "text/html": [
       "<html>\\(\\displaystyle \\mathrm{None}\\)</html>"
      ],
      "text/latex": [
       "$\\displaystyle \\mathrm{None}$"
      ],
      "text/plain": [
       "None"
      ]
     },
     "metadata": {},
     "output_type": "display_data"
    }
   ],
   "source": [
    "# Trying to prove an LCLT with an irrational direction when a newer branch is not installed gives the following error\n",
    "var('x y t')\n",
    "F = 1/(1-t-x*t^2-y*t^3)\n",
    "show(getLCLT(F, t, as_symbolic=True, support_irrat = True))"
   ]
  },
  {
   "cell_type": "markdown",
   "id": "2aaafa08-ecb4-4913-9d8b-bb8a14dae4c5",
   "metadata": {},
   "source": []
  }
 ],
 "metadata": {
  "kernelspec": {
   "display_name": "SageMath 10.1",
   "language": "sage",
   "name": "sagemath-10.1"
  },
  "language_info": {
   "codemirror_mode": {
    "name": "ipython",
    "version": 3
   },
   "file_extension": ".py",
   "mimetype": "text/x-python",
   "name": "python",
   "nbconvert_exporter": "python",
   "pygments_lexer": "ipython3",
   "version": "3.11.1"
  }
 },
 "nbformat": 4,
 "nbformat_minor": 5
}
